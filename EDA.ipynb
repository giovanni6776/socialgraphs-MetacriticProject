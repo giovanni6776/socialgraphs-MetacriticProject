{
 "cells": [
  {
   "cell_type": "markdown",
   "metadata": {},
   "source": [
    "# EDA"
   ]
  },
  {
   "cell_type": "markdown",
   "metadata": {},
   "source": [
    "## How do video Games Age? \n",
    "Graph showing the development of Metrics over time (group by, TOP 10, Genre, Main Publishers..)\n",
    "\n",
    "Motivation:  Some games are incredibly well reviewd when they come out, but eventually tend to age poorly. (Simply Analysis but we can also measure the NLP)"
   ]
  },
  {
   "cell_type": "markdown",
   "metadata": {},
   "source": [
    "## Analysis Multiplataform Games"
   ]
  },
  {
   "cell_type": "code",
   "execution_count": null,
   "metadata": {},
   "outputs": [],
   "source": []
  },
  {
   "cell_type": "code",
   "execution_count": null,
   "metadata": {},
   "outputs": [],
   "source": []
  },
  {
   "cell_type": "code",
   "execution_count": 2,
   "metadata": {},
   "outputs": [],
   "source": [
    "# Import libraries\n",
    "import pandas as pd\n",
    "import project_data_utils"
   ]
  },
  {
   "cell_type": "code",
   "execution_count": 3,
   "metadata": {},
   "outputs": [],
   "source": [
    "df = project_data_utils.get_data_game_line()"
   ]
  },
  {
   "cell_type": "code",
   "execution_count": 7,
   "metadata": {},
   "outputs": [
    {
     "data": {
      "text/html": [
       "<div>\n",
       "<style scoped>\n",
       "    .dataframe tbody tr th:only-of-type {\n",
       "        vertical-align: middle;\n",
       "    }\n",
       "\n",
       "    .dataframe tbody tr th {\n",
       "        vertical-align: top;\n",
       "    }\n",
       "\n",
       "    .dataframe thead th {\n",
       "        text-align: right;\n",
       "    }\n",
       "</style>\n",
       "<table border=\"1\" class=\"dataframe\">\n",
       "  <thead>\n",
       "    <tr style=\"text-align: right;\">\n",
       "      <th></th>\n",
       "      <th>title</th>\n",
       "      <th>platform</th>\n",
       "      <th>release_date</th>\n",
       "      <th>other_platforms</th>\n",
       "      <th>metascore</th>\n",
       "      <th>user_score</th>\n",
       "      <th>developer</th>\n",
       "      <th>publisher</th>\n",
       "      <th>genre</th>\n",
       "      <th>players</th>\n",
       "      <th>rating</th>\n",
       "      <th>summary</th>\n",
       "      <th>url</th>\n",
       "    </tr>\n",
       "  </thead>\n",
       "  <tbody>\n",
       "    <tr>\n",
       "      <th>1</th>\n",
       "      <td>Elden Ring</td>\n",
       "      <td>xbox-series-x</td>\n",
       "      <td>Feb 25, 2022</td>\n",
       "      <td>['PC', 'PlayStation 4', 'PlayStation 5', 'Xbox...</td>\n",
       "      <td>96.0</td>\n",
       "      <td>7.7</td>\n",
       "      <td>From Software</td>\n",
       "      <td>Bandai Namco Games</td>\n",
       "      <td>['Role-Playing', ',                           ...</td>\n",
       "      <td>Up to 4</td>\n",
       "      <td>M</td>\n",
       "      <td>A New World Created By Hidetaka Miyazaki And G...</td>\n",
       "      <td>https://metacritic.com/game/xbox-series-x/elde...</td>\n",
       "    </tr>\n",
       "    <tr>\n",
       "      <th>2</th>\n",
       "      <td>Elden Ring</td>\n",
       "      <td>playstation-5</td>\n",
       "      <td>Feb 25, 2022</td>\n",
       "      <td>['PC', 'PlayStation 4', 'Xbox One', 'Xbox Seri...</td>\n",
       "      <td>96.0</td>\n",
       "      <td>7.9</td>\n",
       "      <td>From Software</td>\n",
       "      <td>Bandai Namco Games</td>\n",
       "      <td>['Role-Playing', ',                           ...</td>\n",
       "      <td>Up to 4</td>\n",
       "      <td>M</td>\n",
       "      <td>A New World Created By Hidetaka Miyazaki And G...</td>\n",
       "      <td>https://metacritic.com/game/playstation-5/elde...</td>\n",
       "    </tr>\n",
       "    <tr>\n",
       "      <th>6</th>\n",
       "      <td>Elden Ring</td>\n",
       "      <td>pc</td>\n",
       "      <td>Feb 25, 2022</td>\n",
       "      <td>['PlayStation 4', 'PlayStation 5', 'Xbox One',...</td>\n",
       "      <td>94.0</td>\n",
       "      <td>6.8</td>\n",
       "      <td>From Software</td>\n",
       "      <td>Bandai Namco Games</td>\n",
       "      <td>['Role-Playing', ',                           ...</td>\n",
       "      <td>Up to 4</td>\n",
       "      <td>M</td>\n",
       "      <td>A New World Created By Hidetaka Miyazaki And G...</td>\n",
       "      <td>https://metacritic.com/game/pc/elden-ring</td>\n",
       "    </tr>\n",
       "  </tbody>\n",
       "</table>\n",
       "</div>"
      ],
      "text/plain": [
       "        title       platform  release_date  \\\n",
       "1  Elden Ring  xbox-series-x  Feb 25, 2022   \n",
       "2  Elden Ring  playstation-5  Feb 25, 2022   \n",
       "6  Elden Ring             pc  Feb 25, 2022   \n",
       "\n",
       "                                     other_platforms  metascore user_score  \\\n",
       "1  ['PC', 'PlayStation 4', 'PlayStation 5', 'Xbox...       96.0        7.7   \n",
       "2  ['PC', 'PlayStation 4', 'Xbox One', 'Xbox Seri...       96.0        7.9   \n",
       "6  ['PlayStation 4', 'PlayStation 5', 'Xbox One',...       94.0        6.8   \n",
       "\n",
       "       developer           publisher  \\\n",
       "1  From Software  Bandai Namco Games   \n",
       "2  From Software  Bandai Namco Games   \n",
       "6  From Software  Bandai Namco Games   \n",
       "\n",
       "                                               genre   players rating  \\\n",
       "1  ['Role-Playing', ',                           ...  Up to 4       M   \n",
       "2  ['Role-Playing', ',                           ...  Up to 4       M   \n",
       "6  ['Role-Playing', ',                           ...  Up to 4       M   \n",
       "\n",
       "                                             summary  \\\n",
       "1  A New World Created By Hidetaka Miyazaki And G...   \n",
       "2  A New World Created By Hidetaka Miyazaki And G...   \n",
       "6  A New World Created By Hidetaka Miyazaki And G...   \n",
       "\n",
       "                                                 url  \n",
       "1  https://metacritic.com/game/xbox-series-x/elde...  \n",
       "2  https://metacritic.com/game/playstation-5/elde...  \n",
       "6          https://metacritic.com/game/pc/elden-ring  "
      ]
     },
     "execution_count": 7,
     "metadata": {},
     "output_type": "execute_result"
    }
   ],
   "source": [
    "df[df[\"title\"] == \"Elden Ring\"]"
   ]
  },
  {
   "cell_type": "code",
   "execution_count": null,
   "metadata": {},
   "outputs": [],
   "source": []
  }
 ],
 "metadata": {
  "kernelspec": {
   "display_name": "Python 3.9.7 ('base')",
   "language": "python",
   "name": "python3"
  },
  "language_info": {
   "codemirror_mode": {
    "name": "ipython",
    "version": 3
   },
   "file_extension": ".py",
   "mimetype": "text/x-python",
   "name": "python",
   "nbconvert_exporter": "python",
   "pygments_lexer": "ipython3",
   "version": "3.9.7"
  },
  "orig_nbformat": 4,
  "vscode": {
   "interpreter": {
    "hash": "6ebd908b7e74dac9a348e9d3abf074a61c1e7e8efc0ae4932d05c55de7bf9a20"
   }
  }
 },
 "nbformat": 4,
 "nbformat_minor": 2
}
